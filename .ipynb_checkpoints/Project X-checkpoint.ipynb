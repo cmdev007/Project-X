{
 "cells": [
  {
   "cell_type": "code",
   "execution_count": 1,
   "metadata": {},
   "outputs": [],
   "source": [
    "import os\n",
    "from PyQt5 import QtCore, QtGui, QtWidgets"
   ]
  },
  {
   "cell_type": "code",
   "execution_count": 2,
   "metadata": {},
   "outputs": [],
   "source": [
    "def mover(loc):\n",
    "    state=os.system(\"mv {0} mountdir/\".format(loc))\n",
    "    return state"
   ]
  },
  {
   "cell_type": "code",
   "execution_count": 3,
   "metadata": {},
   "outputs": [],
   "source": [
    "def encrypt():\n",
    "    state=os.system(\"fusermount -u mountdir\")\n",
    "    return state"
   ]
  },
  {
   "cell_type": "code",
   "execution_count": 4,
   "metadata": {},
   "outputs": [],
   "source": [
    "def decrypt():\n",
    "    os.system(\"konsole -e cryfs basedir mountdir\")   \n",
    "    dir = os.listdir(\"mountdir\") \n",
    "    return len(dir)"
   ]
  },
  {
   "cell_type": "code",
   "execution_count": 1,
   "metadata": {},
   "outputs": [
    {
     "ename": "SystemExit",
     "evalue": "0",
     "output_type": "error",
     "traceback": [
      "An exception has occurred, use %tb to see the full traceback.\n",
      "\u001b[0;31mSystemExit\u001b[0m\u001b[0;31m:\u001b[0m 0\n"
     ]
    },
    {
     "name": "stderr",
     "output_type": "stream",
     "text": [
      "/home/cm/.local/lib/python3.9/site-packages/IPython/core/interactiveshell.py:3426: UserWarning: To exit: use 'exit', 'quit', or Ctrl-D.\n",
      "  warn(\"To exit: use 'exit', 'quit', or Ctrl-D.\", stacklevel=1)\n"
     ]
    }
   ],
   "source": [
    "import os\n",
    "from PyQt5 import QtCore, QtGui, QtWidgets\n",
    "\n",
    "def mover(loc):\n",
    "    state=os.system(\"mv {0} mountdir/\".format(loc))\n",
    "    return state\n",
    "\n",
    "def encrypt():\n",
    "    state=os.system(\"fusermount -u mountdir\")\n",
    "    return state\n",
    "\n",
    "def decrypt():\n",
    "    os.system(\"konsole -e cryfs basedir mountdir\")   \n",
    "    dir = os.listdir(\"mountdir\") \n",
    "    return len(dir)\n",
    "\n",
    "decrypt()\n",
    "\n",
    "class Ui_Dialog(object):\n",
    "    def setupUi(self, Dialog):\n",
    "        Dialog.setObjectName(\"Dialog\")\n",
    "        Dialog.setEnabled(True)\n",
    "        Dialog.resize(601, 593)\n",
    "        font = QtGui.QFont()\n",
    "        font.setFamily(\"URW Gothic\")\n",
    "        font.setBold(False)\n",
    "        font.setWeight(50)\n",
    "        Dialog.setFont(font)\n",
    "        Dialog.setSizeGripEnabled(False)\n",
    "        Dialog.setModal(False)\n",
    "        self.pushButton = QtWidgets.QPushButton(Dialog)\n",
    "        self.pushButton.setGeometry(QtCore.QRect(240, 520, 104, 41))\n",
    "        font = QtGui.QFont()\n",
    "        font.setFamily(\"URW Gothic\")\n",
    "        font.setBold(False)\n",
    "        font.setWeight(50)\n",
    "        self.pushButton.setFont(font)\n",
    "        self.pushButton.setObjectName(\"pushButton\")\n",
    "        self.pushButton.clicked.connect(self.passEncry)\n",
    "        self.pushButton.clicked.connect(lambda:Dialog.close())\n",
    "        self.pushButton_2 = QtWidgets.QPushButton(Dialog)\n",
    "        self.pushButton_2.setGeometry(QtCore.QRect(240, 450, 104, 41))\n",
    "        font = QtGui.QFont()\n",
    "        font.setFamily(\"URW Gothic\")\n",
    "        font.setBold(False)\n",
    "        font.setWeight(50)\n",
    "        self.pushButton_2.setFont(font)\n",
    "        self.pushButton_2.setObjectName(\"pushButton_2\")\n",
    "        self.pushButton_2.clicked.connect(self.passMove)\n",
    "        self.pushButton_2.clicked.connect(self.refreshList)\n",
    "        self.label = QtWidgets.QLabel(Dialog)\n",
    "        self.label.setGeometry(QtCore.QRect(40, 410, 111, 22))\n",
    "        self.label.setObjectName(\"label\")\n",
    "        self.label_2 = QtWidgets.QLabel(Dialog)\n",
    "        self.label_2.setGeometry(QtCore.QRect(170, 20, 251, 25))\n",
    "        font = QtGui.QFont()\n",
    "        font.setFamily(\"URW Gothic\")\n",
    "        font.setPointSize(18)\n",
    "        font.setBold(False)\n",
    "        font.setWeight(50)\n",
    "        self.label_2.setFont(font)\n",
    "        self.label_2.setObjectName(\"label_2\")\n",
    "        self.lineEdit = QtWidgets.QLineEdit(Dialog)\n",
    "        self.lineEdit.setGeometry(QtCore.QRect(150, 410, 401, 28))\n",
    "        self.lineEdit.setText(\"\")\n",
    "        self.lineEdit.setObjectName(\"lineEdit\")\n",
    "        self.textBrowser = QtWidgets.QTextBrowser(Dialog)\n",
    "        self.textBrowser.setGeometry(QtCore.QRect(55, 90, 491, 291))\n",
    "        self.textBrowser.setObjectName(\"textBrowser\")\n",
    "        text=os.popen(\"ls mountdir\").read()\n",
    "        self.textBrowser.setPlainText(text)\n",
    "        self.label_3 = QtWidgets.QLabel(Dialog)\n",
    "        self.label_3.setGeometry(QtCore.QRect(50, 60, 101, 22))\n",
    "        self.label_3.setObjectName(\"label_3\")\n",
    "\n",
    "        self.retranslateUi(Dialog)\n",
    "        QtCore.QMetaObject.connectSlotsByName(Dialog)\n",
    "\n",
    "    def retranslateUi(self, Dialog):\n",
    "        _translate = QtCore.QCoreApplication.translate\n",
    "        Dialog.setWindowTitle(_translate(\"Dialog\", \"Project-X~Vault\"))\n",
    "        self.pushButton.setText(_translate(\"Dialog\", \"Lock and Exit\"))\n",
    "        self.pushButton_2.setText(_translate(\"Dialog\", \"Lock Files\"))\n",
    "        self.label.setText(_translate(\"Dialog\", \"Enter the path:\"))\n",
    "        self.label_2.setText(_translate(\"Dialog\", \"Welcome to Project-X\"))\n",
    "        self.label_3.setText(_translate(\"Dialog\", \"Locked Files:\"))\n",
    "    \n",
    "    def refreshList(self):\n",
    "        text=os.popen(\"ls mountdir\").read()\n",
    "        self.textBrowser.setPlainText(text)\n",
    "    \n",
    "    def passMove(self):\n",
    "        mover(self.lineEdit.text())\n",
    "\n",
    "    def passEncry(self):\n",
    "        encrypt()\n",
    "\n",
    "        \n",
    "if __name__ == \"__main__\":\n",
    "    import sys\n",
    "    app = QtWidgets.QApplication(sys.argv)\n",
    "    Dialog = QtWidgets.QDialog()\n",
    "    ui = Ui_Dialog()\n",
    "    ui.setupUi(Dialog)\n",
    "    Dialog.show()\n",
    "    sys.exit(app.exec_())"
   ]
  },
  {
   "cell_type": "code",
   "execution_count": null,
   "metadata": {},
   "outputs": [],
   "source": []
  },
  {
   "cell_type": "code",
   "execution_count": null,
   "metadata": {},
   "outputs": [],
   "source": [
    "a=input(\"Please enter file's path: \")\n",
    "b=mover(a)\n",
    "if b==0:\n",
    "    print(\"File moved successfully!\")\n",
    "else:\n",
    "    print(\"Please check the path!\")"
   ]
  },
  {
   "cell_type": "code",
   "execution_count": null,
   "metadata": {},
   "outputs": [],
   "source": [
    "b=encrypt()\n",
    "if b==0:\n",
    "    print(\"File vaulted successfully!\")\n",
    "else:\n",
    "    print(\"File did not vault!\")"
   ]
  },
  {
   "cell_type": "code",
   "execution_count": null,
   "metadata": {},
   "outputs": [],
   "source": [
    "b=decrypt()\n",
    "if b==0:\n",
    "    print(\"Please check your password!\")\n",
    "else:\n",
    "    print(\"Files unvaulted succesfully!\")"
   ]
  },
  {
   "cell_type": "code",
   "execution_count": null,
   "metadata": {},
   "outputs": [],
   "source": []
  }
 ],
 "metadata": {
  "kernelspec": {
   "display_name": "Python 3",
   "language": "python",
   "name": "python3"
  },
  "language_info": {
   "codemirror_mode": {
    "name": "ipython",
    "version": 3
   },
   "file_extension": ".py",
   "mimetype": "text/x-python",
   "name": "python",
   "nbconvert_exporter": "python",
   "pygments_lexer": "ipython3",
   "version": "3.9.1"
  }
 },
 "nbformat": 4,
 "nbformat_minor": 4
}
