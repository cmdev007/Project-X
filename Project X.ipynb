{
 "cells": [
  {
   "cell_type": "code",
   "execution_count": 1,
   "metadata": {},
   "outputs": [],
   "source": [
    "import os\n",
    "from PyQt5 import QtCore, QtGui, QtWidgets"
   ]
  },
  {
   "cell_type": "code",
   "execution_count": 2,
   "metadata": {},
   "outputs": [],
   "source": [
    "def mover(loc):\n",
    "    state=os.system(\"mv {0} mountdir/\".format(loc))\n",
    "    return state"
   ]
  },
  {
   "cell_type": "code",
   "execution_count": 3,
   "metadata": {},
   "outputs": [],
   "source": [
    "def encrypt():\n",
    "    state=os.system(\"fusermount -u mountdir\")\n",
    "    return state"
   ]
  },
  {
   "cell_type": "code",
   "execution_count": 4,
   "metadata": {},
   "outputs": [],
   "source": [
    "def decrypt():\n",
    "    os.system(\"konsole -e cryfs basedir mountdir\")   \n",
    "    dir = os.listdir(\"mountdir\") \n",
    "    return len(dir)"
   ]
  },
  {
   "cell_type": "code",
   "execution_count": 1,
   "metadata": {},
   "outputs": [
    {
     "ename": "SystemExit",
     "evalue": "0",
     "output_type": "error",
     "traceback": [
      "An exception has occurred, use %tb to see the full traceback.\n",
      "\u001b[0;31mSystemExit\u001b[0m\u001b[0;31m:\u001b[0m 0\n"
     ]
    },
    {
     "name": "stderr",
     "output_type": "stream",
     "text": [
      "/home/cm/.local/lib/python3.9/site-packages/IPython/core/interactiveshell.py:3426: UserWarning: To exit: use 'exit', 'quit', or Ctrl-D.\n",
      "  warn(\"To exit: use 'exit', 'quit', or Ctrl-D.\", stacklevel=1)\n"
     ]
    }
   ],
   "source": [
    "import os\n",
    "from PyQt5 import QtCore, QtGui, QtWidgets\n",
    "\n",
    "def mover(loc):\n",
    "    state=os.system(\"mv {0} mountdir/\".format(loc))\n",
    "    return state\n",
    "\n",
    "def encrypt():\n",
    "    state=os.system(\"fusermount -u mountdir\")\n",
    "    return state\n",
    "\n",
    "def decrypt():\n",
    "    os.system(\"konsole -e cryfs basedir mountdir\")   \n",
    "    dir = os.listdir(\"mountdir\") \n",
    "    return len(dir)\n",
    "\n",
    "decrypt()\n",
    "\n",
    "class Ui_Dialog(object):\n",
    "    def setupUi(self, Dialog):\n",
    "        Dialog.setObjectName(\"Dialog\")\n",
    "        Dialog.setEnabled(True)\n",
    "        Dialog.resize(601, 593)\n",
    "        font = QtGui.QFont()\n",
    "        font.setFamily(\"URW Gothic\")\n",
    "        font.setBold(False)\n",
    "        font.setWeight(50)\n",
    "        Dialog.setFont(font)\n",
    "        Dialog.setSizeGripEnabled(False)\n",
    "        Dialog.setModal(False)\n",
    "        self.pushButton = QtWidgets.QPushButton(Dialog)\n",
    "        self.pushButton.setGeometry(QtCore.QRect(240, 520, 104, 41))\n",
    "        font = QtGui.QFont()\n",
    "        font.setFamily(\"URW Gothic\")\n",
    "        font.setBold(False)\n",
    "        font.setWeight(50)\n",
    "        self.pushButton.setFont(font)\n",
    "        self.pushButton.setObjectName(\"pushButton\")\n",
    "        self.pushButton.clicked.connect(self.passEncry)\n",
    "        self.pushButton.clicked.connect(lambda:Dialog.close())\n",
    "        self.pushButton_2 = QtWidgets.QPushButton(Dialog)\n",
    "        self.pushButton_2.setGeometry(QtCore.QRect(240, 450, 104, 41))\n",
    "        font = QtGui.QFont()\n",
    "        font.setFamily(\"URW Gothic\")\n",
    "        font.setBold(False)\n",
    "        font.setWeight(50)\n",
    "        self.pushButton_2.setFont(font)\n",
    "        self.pushButton_2.setObjectName(\"pushButton_2\")\n",
    "        self.pushButton_2.clicked.connect(self.passMove)\n",
    "        self.pushButton_2.clicked.connect(self.refreshList)\n",
    "        self.label = QtWidgets.QLabel(Dialog)\n",
    "        self.label.setGeometry(QtCore.QRect(40, 410, 111, 22))\n",
    "        self.label.setObjectName(\"label\")\n",
    "        self.label_2 = QtWidgets.QLabel(Dialog)\n",
    "        self.label_2.setGeometry(QtCore.QRect(170, 20, 251, 25))\n",
    "        font = QtGui.QFont()\n",
    "        font.setFamily(\"URW Gothic\")\n",
    "        font.setPointSize(18)\n",
    "        font.setBold(False)\n",
    "        font.setWeight(50)\n",
    "        self.label_2.setFont(font)\n",
    "        self.label_2.setObjectName(\"label_2\")\n",
    "        self.lineEdit = QtWidgets.QLineEdit(Dialog)\n",
    "        self.lineEdit.setGeometry(QtCore.QRect(150, 410, 401, 28))\n",
    "        self.lineEdit.setText(\"\")\n",
    "        self.lineEdit.setObjectName(\"lineEdit\")\n",
    "        self.textBrowser = QtWidgets.QTextBrowser(Dialog)\n",
    "        self.textBrowser.setGeometry(QtCore.QRect(55, 90, 491, 291))\n",
    "        self.textBrowser.setObjectName(\"textBrowser\")\n",
    "        text=os.popen(\"ls mountdir\").read()\n",
    "        self.textBrowser.setPlainText(text)\n",
    "        self.label_3 = QtWidgets.QLabel(Dialog)\n",
    "        self.label_3.setGeometry(QtCore.QRect(50, 60, 101, 22))\n",
    "        self.label_3.setObjectName(\"label_3\")\n",
    "\n",
    "        self.retranslateUi(Dialog)\n",
    "        QtCore.QMetaObject.connectSlotsByName(Dialog)\n",
    "\n",
    "    def retranslateUi(self, Dialog):\n",
    "        _translate = QtCore.QCoreApplication.translate\n",
    "        Dialog.setWindowTitle(_translate(\"Dialog\", \"Project-X~Vault\"))\n",
    "        self.pushButton.setText(_translate(\"Dialog\", \"Lock and Exit\"))\n",
    "        self.pushButton_2.setText(_translate(\"Dialog\", \"Lock Files\"))\n",
    "        self.label.setText(_translate(\"Dialog\", \"Enter the path:\"))\n",
    "        self.label_2.setText(_translate(\"Dialog\", \"Welcome to Project-X\"))\n",
    "        self.label_3.setText(_translate(\"Dialog\", \"Locked Files:\"))\n",
    "    \n",
    "    def refreshList(self):\n",
    "        text=os.popen(\"ls mountdir\").read()\n",
    "        self.textBrowser.setPlainText(text)\n",
    "    \n",
    "    def passMove(self):\n",
    "        mover(self.lineEdit.text())\n",
    "\n",
    "    def passEncry(self):\n",
    "        encrypt()\n",
    "\n",
    "        \n",
    "if __name__ == \"__main__\":\n",
    "    import sys\n",
    "    app = QtWidgets.QApplication(sys.argv)\n",
    "    Dialog = QtWidgets.QDialog()\n",
    "    ui = Ui_Dialog()\n",
    "    ui.setupUi(Dialog)\n",
    "    Dialog.show()\n",
    "    sys.exit(app.exec_())"
   ]
  },
  {
   "cell_type": "code",
   "execution_count": null,
   "metadata": {},
   "outputs": [],
   "source": []
  },
  {
   "cell_type": "code",
   "execution_count": null,
   "metadata": {},
   "outputs": [],
   "source": [
    "a=input(\"Please enter file's path: \")\n",
    "b=mover(a)\n",
    "if b==0:\n",
    "    print(\"File moved successfully!\")\n",
    "else:\n",
    "    print(\"Please check the path!\")"
   ]
  },
  {
   "cell_type": "code",
   "execution_count": null,
   "metadata": {},
   "outputs": [],
   "source": [
    "b=encrypt()\n",
    "if b==0:\n",
    "    print(\"File vaulted successfully!\")\n",
    "else:\n",
    "    print(\"File did not vault!\")"
   ]
  },
  {
   "cell_type": "code",
   "execution_count": null,
   "metadata": {},
   "outputs": [],
   "source": [
    "b=decrypt()\n",
    "if b==0:\n",
    "    print(\"Please check your password!\")\n",
    "else:\n",
    "    print(\"Files unvaulted succesfully!\")"
   ]
  },
  {
   "cell_type": "code",
   "execution_count": 1,
   "metadata": {},
   "outputs": [
    {
     "ename": "SystemExit",
     "evalue": "0",
     "output_type": "error",
     "traceback": [
      "An exception has occurred, use %tb to see the full traceback.\n",
      "\u001b[0;31mSystemExit\u001b[0m\u001b[0;31m:\u001b[0m 0\n"
     ]
    },
    {
     "name": "stderr",
     "output_type": "stream",
     "text": [
      "/home/cm/.local/lib/python3.9/site-packages/IPython/core/interactiveshell.py:3426: UserWarning: To exit: use 'exit', 'quit', or Ctrl-D.\n",
      "  warn(\"To exit: use 'exit', 'quit', or Ctrl-D.\", stacklevel=1)\n"
     ]
    }
   ],
   "source": [
    "# -*- coding: utf-8 -*-\n",
    "\n",
    "# Form implementation generated from reading ui file 'loading.ui'\n",
    "#\n",
    "# Created by: PyQt5 UI code generator 5.15.2\n",
    "#\n",
    "# WARNING: Any manual changes made to this file will be lost when pyuic5 is\n",
    "# run again.  Do not edit this file unless you know what you are doing.\n",
    "\n",
    "\n",
    "from PyQt5 import QtCore, QtGui, QtWidgets\n",
    "import time\n",
    "\n",
    "class Ui_Dialog(object):\n",
    "    def setupUi(self, Dialog):\n",
    "        Dialog.setObjectName(\"Dialog\")\n",
    "        Dialog.setEnabled(True)\n",
    "        Dialog.resize(601, 593)\n",
    "        font = QtGui.QFont()\n",
    "        font.setFamily(\"URW Gothic\")\n",
    "        font.setBold(False)\n",
    "        font.setWeight(50)\n",
    "        Dialog.setFont(font)\n",
    "        Dialog.setSizeGripEnabled(False)\n",
    "        Dialog.setModal(False)\n",
    "        self.label_2 = QtWidgets.QLabel(Dialog)\n",
    "        self.label_2.setGeometry(QtCore.QRect(190, 20, 221, 31))\n",
    "        font = QtGui.QFont()\n",
    "        font.setFamily(\"Orbitron\")\n",
    "        font.setPointSize(18)\n",
    "        font.setBold(True)\n",
    "        font.setWeight(75)\n",
    "        self.label_2.setFont(font)\n",
    "        self.label_2.setObjectName(\"label_2\")\n",
    "        self.progressBar = QtWidgets.QProgressBar(Dialog)\n",
    "        self.progressBar.setGeometry(QtCore.QRect(70, 490, 461, 24))\n",
    "        #self.progressBar.setProperty(\"value\", 24)\n",
    "        self.progressBar.setObjectName(\"progressBar\")\n",
    "        self.graphicsView = QtWidgets.QGraphicsView(Dialog)\n",
    "        self.graphicsView.setGeometry(QtCore.QRect(60, 90, 480, 300))\n",
    "        self.graphicsView.setObjectName(\"graphicsView\")\n",
    "        scene = QtWidgets.QGraphicsScene()\n",
    "        self.pixmap = QtWidgets.QGraphicsPixmapItem()\n",
    "        scene.addItem(self.pixmap)\n",
    "        img = QtGui.QPixmap('media/bootup.jpg')\n",
    "        self.pixmap.setPixmap(img)\n",
    "        self.graphicsView.setScene(scene)\n",
    "        self.label = QtWidgets.QLabel(Dialog)\n",
    "        self.label.setGeometry(QtCore.QRect(100, 430, 411, 41))\n",
    "        font = QtGui.QFont()\n",
    "        font.setFamily(\"Orbitron\")\n",
    "        font.setPointSize(18)\n",
    "        font.setBold(False)\n",
    "        font.setWeight(50)\n",
    "        self.label.setFont(font)\n",
    "        self.label.setObjectName(\"label\")\n",
    "        self.pushButton = QtWidgets.QPushButton(Dialog)\n",
    "        self.pushButton.setGeometry(QtCore.QRect(250, 540, 104, 41))\n",
    "        self.pushButton.setObjectName(\"pushButton\")\n",
    "        self.pushButton.clicked.connect(self.doAction) \n",
    "\n",
    "        self.retranslateUi(Dialog)\n",
    "        QtCore.QMetaObject.connectSlotsByName(Dialog)\n",
    "\n",
    "    def retranslateUi(self, Dialog):\n",
    "        _translate = QtCore.QCoreApplication.translate\n",
    "        Dialog.setWindowTitle(_translate(\"Dialog\", \"Project-X~Vault\"))\n",
    "        self.label_2.setText(_translate(\"Dialog\", \"Project-X~Vault\"))\n",
    "        \n",
    "        self.pushButton.setText(_translate(\"Dialog\", \"Open Vault!\"))\n",
    "\n",
    "    def doAction(self):\n",
    "        self.label.setText(QtCore.QCoreApplication.translate(\"Dialog\", \"Project-X is Decrypting Files...\"))\n",
    "        for i in range(101): \n",
    "            time.sleep(0.05) \n",
    "            self.progressBar.setValue(i) \n",
    "        Dialog.close()\n",
    "\n",
    "if __name__ == \"__main__\":\n",
    "    import sys\n",
    "    app = QtWidgets.QApplication(sys.argv)\n",
    "    Dialog = QtWidgets.QDialog()\n",
    "    ui = Ui_Dialog()\n",
    "    ui.setupUi(Dialog)\n",
    "    Dialog.show()\n",
    "    sys.exit(app.exec_())\n"
   ]
  },
  {
   "cell_type": "code",
   "execution_count": null,
   "metadata": {},
   "outputs": [],
   "source": []
  }
 ],
 "metadata": {
  "kernelspec": {
   "display_name": "Python 3",
   "language": "python",
   "name": "python3"
  },
  "language_info": {
   "codemirror_mode": {
    "name": "ipython",
    "version": 3
   },
   "file_extension": ".py",
   "mimetype": "text/x-python",
   "name": "python",
   "nbconvert_exporter": "python",
   "pygments_lexer": "ipython3",
   "version": "3.9.1"
  }
 },
 "nbformat": 4,
 "nbformat_minor": 4
}
